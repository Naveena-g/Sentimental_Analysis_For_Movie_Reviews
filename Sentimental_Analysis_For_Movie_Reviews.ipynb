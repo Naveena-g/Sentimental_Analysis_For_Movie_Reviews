{
  "nbformat": 4,
  "nbformat_minor": 0,
  "metadata": {
    "colab": {
      "provenance": []
    },
    "kernelspec": {
      "name": "python3",
      "display_name": "Python 3"
    },
    "language_info": {
      "name": "python"
    }
  },
  "cells": [
    {
      "cell_type": "code",
      "execution_count": null,
      "metadata": {
        "colab": {
          "base_uri": "https://localhost:8080/"
        },
        "id": "ZAbZRZH8vvDw",
        "outputId": "be22ae4e-0f55-4fac-e6d0-30cd08a015d4"
      },
      "outputs": [
        {
          "output_type": "stream",
          "name": "stdout",
          "text": [
            "Epoch 1/2\n"
          ]
        },
        {
          "output_type": "stream",
          "name": "stderr",
          "text": [
            "/usr/local/lib/python3.10/dist-packages/keras/src/layers/core/embedding.py:90: UserWarning: Argument `input_length` is deprecated. Just remove it.\n",
            "  warnings.warn(\n"
          ]
        },
        {
          "output_type": "stream",
          "name": "stdout",
          "text": [
            "157/157 - 17s - 106ms/step - accuracy: 0.7000 - loss: 0.5688 - val_accuracy: 0.7895 - val_loss: 0.4379\n",
            "Epoch 2/2\n",
            "157/157 - 14s - 89ms/step - accuracy: 0.8466 - loss: 0.3664 - val_accuracy: 0.8100 - val_loss: 0.4312\n",
            "\u001b[1m63/63\u001b[0m \u001b[32m━━━━━━━━━━━━━━━━━━━━\u001b[0m\u001b[37m\u001b[0m \u001b[1m1s\u001b[0m 19ms/step\n",
            "Test Accuracy: 0.81\n",
            "\u001b[1m1/1\u001b[0m \u001b[32m━━━━━━━━━━━━━━━━━━━━\u001b[0m\u001b[37m\u001b[0m \u001b[1m0s\u001b[0m 25ms/step\n",
            "Sentiment: Positive\n"
          ]
        }
      ],
      "source": [
        "import numpy as np\n",
        "from tensorflow.keras.preprocessing.text import Tokenizer  # Import Tokenizer\n",
        "from tensorflow.keras.preprocessing.sequence import pad_sequences\n",
        "from tensorflow.keras.models import Sequential\n",
        "from tensorflow.keras.layers import Embedding, LSTM, Dense, Dropout\n",
        "from sklearn.metrics import accuracy_score\n",
        "from tensorflow.keras.datasets import imdb\n",
        "\n",
        "# Use a smaller dataset (first 10,000 samples) and fewer epochs\n",
        "vocab_size = 10000\n",
        "maxlen = 100  # Reduced sequence length\n",
        "(X_train, y_train), (X_test, y_test) = imdb.load_data(num_words=vocab_size)\n",
        "\n",
        "# Use only the first 10,000 samples for quick testing\n",
        "X_train, y_train = X_train[:10000], y_train[:10000]\n",
        "X_test, y_test = X_test[:2000], y_test[:2000]\n",
        "\n",
        "# Pad sequences\n",
        "X_train = pad_sequences(X_train, maxlen=maxlen)\n",
        "X_test = pad_sequences(X_test, maxlen=maxlen)\n",
        "\n",
        "# Build the LSTM model\n",
        "model = Sequential()\n",
        "model.add(Embedding(input_dim=vocab_size, output_dim=64, input_length=maxlen))  # Reduced output_dim\n",
        "model.add(LSTM(units=64, dropout=0.2, recurrent_dropout=0.2))  # Reduced units\n",
        "model.add(Dense(1, activation='sigmoid'))\n",
        "\n",
        "# Compile the model\n",
        "model.compile(optimizer='adam', loss='binary_crossentropy', metrics=['accuracy'])\n",
        "\n",
        "# Train the model with fewer epochs\n",
        "model.fit(X_train, y_train, batch_size=64, epochs=2, validation_data=(X_test, y_test), verbose=2)\n",
        "\n",
        "# Evaluate the model\n",
        "y_pred = model.predict(X_test)\n",
        "y_pred = (y_pred > 0.5).astype(\"int32\")\n",
        "accuracy = accuracy_score(y_test, y_pred)\n",
        "print(f'Test Accuracy: {accuracy:.2f}')\n",
        "\n",
        "# Example review for prediction\n",
        "example_review = \"This movie was is a blockbuster\"\n",
        "tokenizer = Tokenizer(num_words=vocab_size)\n",
        "tokenizer.fit_on_texts([example_review])\n",
        "sequence = tokenizer.texts_to_sequences([example_review])\n",
        "padded_sequence = pad_sequences(sequence, maxlen=maxlen)\n",
        "\n",
        "# Predict the sentiment\n",
        "sentiment = model.predict(padded_sequence)\n",
        "sentiment_label = \"Positive\" if sentiment < 0.5 else \"Negative\"\n",
        "print(f'Sentiment: {sentiment_label}')\n"
      ]
    }
  ]
}